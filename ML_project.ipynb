{
 "cells": [
  {
   "cell_type": "code",
   "execution_count": 54,
   "metadata": {},
   "outputs": [],
   "source": [
    "import pandas as pd\n",
    "import numpy as np\n",
    "#import missingno as msn\n",
    "import seaborn as sns"
   ]
  },
  {
   "cell_type": "code",
   "execution_count": 55,
   "metadata": {},
   "outputs": [],
   "source": [
    "df = pd.read_csv('data/train.csv')\n",
    "df_variableDefinitions = pd.read_csv('data/variabledefinitions.csv')"
   ]
  },
  {
   "cell_type": "markdown",
   "metadata": {},
   "source": [
    "## Preprocessing\n"
   ]
  },
  {
   "cell_type": "code",
   "execution_count": 56,
   "metadata": {},
   "outputs": [
    {
     "data": {
      "text/plain": [
       "(4780, 23)"
      ]
     },
     "execution_count": 56,
     "metadata": {},
     "output_type": "execute_result"
    }
   ],
   "source": [
    "# Replace missing values in travel_with where people travelled alone\n",
    "df.loc[(df.travel_with.isna()) & (df[['total_male', 'total_female']].sum(axis=1) == 1), 'travel_with'] = 'Alone'\n",
    "\n",
    "# Drop missing values in travel_with where we can't impute the missing values\n",
    "df_new = df.dropna(subset=['travel_with'])\n",
    "df_new.shape\n",
    "# df[(df.travel_with.isna()) & (df[['total_male', 'total_female']].sum(axis=1) == 1)]"
   ]
  },
  {
   "cell_type": "code",
   "execution_count": 57,
   "metadata": {},
   "outputs": [],
   "source": [
    "# Drop observations in total_male and total_female that dont contain information\n",
    "indices_drop = df_new[(df_new['total_female'] == 0) & (df_new['total_male'] == 0)].index\n",
    "df_new = df_new.drop(indices_drop, axis=0)"
   ]
  },
  {
   "cell_type": "code",
   "execution_count": 58,
   "metadata": {},
   "outputs": [],
   "source": [
    "# Replace missing values in most_impressing with 'No comments'\n",
    "df_new['most_impressing'] = df_new['most_impressing'].fillna('No comments')"
   ]
  },
  {
   "cell_type": "code",
   "execution_count": 59,
   "metadata": {},
   "outputs": [
    {
     "name": "stdout",
     "output_type": "stream",
     "text": [
      "most_impressing\n",
      "Friendly People                         1529\n",
      "No comments                             1046\n",
      "Wildlife                                1029\n",
      "Wonderful Country, Landscape, Nature     505\n",
      "Good service                             361\n",
      "Excellent Experience                     265\n",
      "Satisfies and Hope Come Back              31\n",
      "Name: count, dtype: int64\n"
     ]
    }
   ],
   "source": [
    "# Replace missing values in most_impressing with 'No comments'\n",
    "df_new['most_impressing'].replace(' Wildlife', 'Wildlife', inplace=True)\n",
    "#print(df_new['most_impressing'].value_counts())\n"
   ]
  },
  {
   "cell_type": "code",
   "execution_count": 60,
   "metadata": {},
   "outputs": [],
   "source": [
    "# Drop remaining Nan's in total_female and total_male\n",
    "df_new = df_new.dropna()\n"
   ]
  },
  {
   "cell_type": "markdown",
   "metadata": {},
   "source": [
    "## Dummy encoding!"
   ]
  }
 ],
 "metadata": {
  "kernelspec": {
   "display_name": ".venv",
   "language": "python",
   "name": "python3"
  },
  "language_info": {
   "codemirror_mode": {
    "name": "ipython",
    "version": 3
   },
   "file_extension": ".py",
   "mimetype": "text/x-python",
   "name": "python",
   "nbconvert_exporter": "python",
   "pygments_lexer": "ipython3",
   "version": "3.11.3"
  }
 },
 "nbformat": 4,
 "nbformat_minor": 2
}
